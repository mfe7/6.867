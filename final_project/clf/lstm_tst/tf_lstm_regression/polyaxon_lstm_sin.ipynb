{
 "cells": [
  {
   "cell_type": "code",
   "execution_count": 8,
   "metadata": {},
   "outputs": [],
   "source": [
    "%matplotlib inline\n",
    "import numpy as np\n",
    "import pandas as pd\n",
    "import tensorflow as tf\n",
    "from matplotlib import pyplot as plt\n",
    "\n",
    "from tensorflow.contrib import learn\n",
    "from sklearn.metrics import mean_squared_error\n",
    "\n",
    "from data_processing import generate_data\n",
    "from polyaxon_experiement import create_experiment\n",
    "from polyaxon.processing.input_fn import numpy_input_fn\n",
    "\n",
    "tf.logging.set_verbosity(tf.logging.INFO)"
   ]
  },
  {
   "cell_type": "code",
   "execution_count": 2,
   "metadata": {},
   "outputs": [
    {
     "name": "stdout",
     "output_type": "stream",
     "text": [
      "INFO:tensorflow:Using config: {'_save_checkpoints_steps': 100, '_task_type': None, '_task_id': 0, '_num_ps_replicas': 0, '_tf_random_seed': 1, '_tf_config': gpu_options {\n",
      "  per_process_gpu_memory_fraction: 1.0\n",
      "}\n",
      ", '_keep_checkpoint_max': 5, '_environment': 'local', '_cluster_spec': <tensorflow.python.training.server_lib.ClusterSpec object at 0x112ec98d0>, '_save_summary_steps': 100, '_is_chief': True, '_session_config': None, '_model_dir': None, '_save_checkpoints_secs': None, '_master': '', '_keep_checkpoint_every_n_hours': 4, '_num_worker_replicas': 0, '_evaluation_master': ''}\n"
     ]
    }
   ],
   "source": [
    "TIMESTEPS = 7\n",
    "X, y = generate_data(np.sin, np.linspace(0, 100, 10000, dtype=np.float32), TIMESTEPS, seperate=False)\n",
    "xp = create_experiment('/tmp/polyaxon_logs/sin', X, y)"
   ]
  },
  {
   "cell_type": "code",
   "execution_count": 3,
   "metadata": {},
   "outputs": [
    {
     "name": "stdout",
     "output_type": "stream",
     "text": [
      "INFO:tensorflow:Training model for 100 steps\n",
      "WARNING:tensorflow:enqueue_data was called with shuffle=False and num_threads > 1. This will create multiple threads, all reading the array/dataframe in order. If you want examples read in order, use one thread; if you want multiple threads, enable shuffling.\n",
      "INFO:tensorflow:Create CheckpointSaverHook.\n",
      "INFO:tensorflow:Saving checkpoints for 1 into /tmp/polyaxon_logs/sin/model.ckpt.\n",
      "INFO:tensorflow:loss = 0.16403, step = 1\n",
      "INFO:tensorflow:Saving checkpoints for 100 into /tmp/polyaxon_logs/sin/model.ckpt.\n",
      "INFO:tensorflow:Loss for final step: 0.00252027.\n",
      "INFO:tensorflow:Evaluating model now.\n",
      "WARNING:tensorflow:enqueue_data was called with shuffle=False and num_threads > 1. This will create multiple threads, all reading the array/dataframe in order. If you want examples read in order, use one thread; if you want multiple threads, enable shuffling.\n",
      "INFO:tensorflow:Starting evaluation at 2017-06-15-15:59:14\n",
      "INFO:tensorflow:Restoring parameters from /tmp/polyaxon_logs/sin/model.ckpt-100\n",
      "INFO:tensorflow:Evaluation [1/10]\n",
      "INFO:tensorflow:Evaluation [2/10]\n",
      "INFO:tensorflow:Evaluation [3/10]\n",
      "INFO:tensorflow:Evaluation [4/10]\n",
      "INFO:tensorflow:Evaluation [5/10]\n",
      "INFO:tensorflow:Evaluation [6/10]\n",
      "INFO:tensorflow:Evaluation [7/10]\n",
      "INFO:tensorflow:Evaluation [8/10]\n",
      "INFO:tensorflow:Evaluation [9/10]\n",
      "INFO:tensorflow:Evaluation [10/10]\n",
      "INFO:tensorflow:Finished evaluation at 2017-06-15-15:59:15\n",
      "INFO:tensorflow:Saving dict for global step 100: global_step = 100, loss = 0.00379716, streaming_mean_absolute_error = 0.0556576, streaming_root_mean_squared_error = 0.0616211\n",
      "INFO:tensorflow:Training model for 100 steps\n",
      "WARNING:tensorflow:enqueue_data was called with shuffle=False and num_threads > 1. This will create multiple threads, all reading the array/dataframe in order. If you want examples read in order, use one thread; if you want multiple threads, enable shuffling.\n",
      "INFO:tensorflow:Create CheckpointSaverHook.\n",
      "INFO:tensorflow:Restoring parameters from /tmp/polyaxon_logs/sin/model.ckpt-100\n",
      "INFO:tensorflow:Saving checkpoints for 101 into /tmp/polyaxon_logs/sin/model.ckpt.\n",
      "INFO:tensorflow:loss = 0.00168126, step = 101\n",
      "INFO:tensorflow:Saving checkpoints for 200 into /tmp/polyaxon_logs/sin/model.ckpt.\n",
      "INFO:tensorflow:Loss for final step: 0.00895816.\n",
      "INFO:tensorflow:Evaluating model now.\n",
      "WARNING:tensorflow:enqueue_data was called with shuffle=False and num_threads > 1. This will create multiple threads, all reading the array/dataframe in order. If you want examples read in order, use one thread; if you want multiple threads, enable shuffling.\n",
      "INFO:tensorflow:Starting evaluation at 2017-06-15-15:59:25\n",
      "INFO:tensorflow:Restoring parameters from /tmp/polyaxon_logs/sin/model.ckpt-200\n",
      "INFO:tensorflow:Evaluation [1/10]\n",
      "INFO:tensorflow:Evaluation [2/10]\n",
      "INFO:tensorflow:Evaluation [3/10]\n",
      "INFO:tensorflow:Evaluation [4/10]\n",
      "INFO:tensorflow:Evaluation [5/10]\n",
      "INFO:tensorflow:Evaluation [6/10]\n",
      "INFO:tensorflow:Evaluation [7/10]\n",
      "INFO:tensorflow:Evaluation [8/10]\n",
      "INFO:tensorflow:Evaluation [9/10]\n",
      "INFO:tensorflow:Evaluation [10/10]\n",
      "INFO:tensorflow:Finished evaluation at 2017-06-15-15:59:26\n",
      "INFO:tensorflow:Saving dict for global step 200: global_step = 200, loss = 0.000530922, streaming_mean_absolute_error = 0.0212256, streaming_root_mean_squared_error = 0.0230417\n",
      "INFO:tensorflow:Training model for 100 steps\n",
      "WARNING:tensorflow:enqueue_data was called with shuffle=False and num_threads > 1. This will create multiple threads, all reading the array/dataframe in order. If you want examples read in order, use one thread; if you want multiple threads, enable shuffling.\n",
      "INFO:tensorflow:Create CheckpointSaverHook.\n",
      "INFO:tensorflow:Restoring parameters from /tmp/polyaxon_logs/sin/model.ckpt-200\n",
      "INFO:tensorflow:Saving checkpoints for 201 into /tmp/polyaxon_logs/sin/model.ckpt.\n",
      "INFO:tensorflow:loss = 0.000283245, step = 201\n",
      "INFO:tensorflow:Saving checkpoints for 300 into /tmp/polyaxon_logs/sin/model.ckpt.\n",
      "INFO:tensorflow:Loss for final step: 0.00656085.\n",
      "INFO:tensorflow:Evaluating model now.\n",
      "WARNING:tensorflow:enqueue_data was called with shuffle=False and num_threads > 1. This will create multiple threads, all reading the array/dataframe in order. If you want examples read in order, use one thread; if you want multiple threads, enable shuffling.\n",
      "INFO:tensorflow:Starting evaluation at 2017-06-15-15:59:36\n",
      "INFO:tensorflow:Restoring parameters from /tmp/polyaxon_logs/sin/model.ckpt-300\n",
      "INFO:tensorflow:Evaluation [1/10]\n",
      "INFO:tensorflow:Evaluation [2/10]\n",
      "INFO:tensorflow:Evaluation [3/10]\n",
      "INFO:tensorflow:Evaluation [4/10]\n",
      "INFO:tensorflow:Evaluation [5/10]\n",
      "INFO:tensorflow:Evaluation [6/10]\n",
      "INFO:tensorflow:Evaluation [7/10]\n",
      "INFO:tensorflow:Evaluation [8/10]\n",
      "INFO:tensorflow:Evaluation [9/10]\n",
      "INFO:tensorflow:Evaluation [10/10]\n",
      "INFO:tensorflow:Finished evaluation at 2017-06-15-15:59:37\n",
      "INFO:tensorflow:Saving dict for global step 300: global_step = 300, loss = 0.000288103, streaming_mean_absolute_error = 0.0152408, streaming_root_mean_squared_error = 0.0169736\n",
      "INFO:tensorflow:Training model for 100 steps\n",
      "WARNING:tensorflow:enqueue_data was called with shuffle=False and num_threads > 1. This will create multiple threads, all reading the array/dataframe in order. If you want examples read in order, use one thread; if you want multiple threads, enable shuffling.\n",
      "INFO:tensorflow:Create CheckpointSaverHook.\n",
      "INFO:tensorflow:Restoring parameters from /tmp/polyaxon_logs/sin/model.ckpt-300\n",
      "INFO:tensorflow:Saving checkpoints for 301 into /tmp/polyaxon_logs/sin/model.ckpt.\n",
      "INFO:tensorflow:loss = 7.94632e-05, step = 301\n",
      "INFO:tensorflow:Saving checkpoints for 400 into /tmp/polyaxon_logs/sin/model.ckpt.\n",
      "INFO:tensorflow:Loss for final step: 0.000828735.\n",
      "INFO:tensorflow:Evaluating model now.\n",
      "WARNING:tensorflow:enqueue_data was called with shuffle=False and num_threads > 1. This will create multiple threads, all reading the array/dataframe in order. If you want examples read in order, use one thread; if you want multiple threads, enable shuffling.\n",
      "INFO:tensorflow:Starting evaluation at 2017-06-15-15:59:47\n",
      "INFO:tensorflow:Restoring parameters from /tmp/polyaxon_logs/sin/model.ckpt-400\n",
      "INFO:tensorflow:Evaluation [1/10]\n",
      "INFO:tensorflow:Evaluation [2/10]\n",
      "INFO:tensorflow:Evaluation [3/10]\n",
      "INFO:tensorflow:Evaluation [4/10]\n",
      "INFO:tensorflow:Evaluation [5/10]\n",
      "INFO:tensorflow:Evaluation [6/10]\n",
      "INFO:tensorflow:Evaluation [7/10]\n",
      "INFO:tensorflow:Evaluation [8/10]\n",
      "INFO:tensorflow:Evaluation [9/10]\n",
      "INFO:tensorflow:Evaluation [10/10]\n",
      "INFO:tensorflow:Finished evaluation at 2017-06-15-15:59:48\n",
      "INFO:tensorflow:Saving dict for global step 400: global_step = 400, loss = 0.00041661, streaming_mean_absolute_error = 0.0177949, streaming_root_mean_squared_error = 0.020411\n",
      "INFO:tensorflow:Training model for 100 steps\n",
      "WARNING:tensorflow:enqueue_data was called with shuffle=False and num_threads > 1. This will create multiple threads, all reading the array/dataframe in order. If you want examples read in order, use one thread; if you want multiple threads, enable shuffling.\n",
      "INFO:tensorflow:Create CheckpointSaverHook.\n",
      "INFO:tensorflow:Restoring parameters from /tmp/polyaxon_logs/sin/model.ckpt-400\n",
      "INFO:tensorflow:Saving checkpoints for 401 into /tmp/polyaxon_logs/sin/model.ckpt.\n",
      "INFO:tensorflow:loss = 0.000106203, step = 401\n",
      "INFO:tensorflow:Saving checkpoints for 500 into /tmp/polyaxon_logs/sin/model.ckpt.\n",
      "INFO:tensorflow:Loss for final step: 0.0039412.\n",
      "INFO:tensorflow:Evaluating model now.\n",
      "WARNING:tensorflow:enqueue_data was called with shuffle=False and num_threads > 1. This will create multiple threads, all reading the array/dataframe in order. If you want examples read in order, use one thread; if you want multiple threads, enable shuffling.\n",
      "INFO:tensorflow:Starting evaluation at 2017-06-15-15:59:58\n",
      "INFO:tensorflow:Restoring parameters from /tmp/polyaxon_logs/sin/model.ckpt-500\n",
      "INFO:tensorflow:Evaluation [1/10]\n",
      "INFO:tensorflow:Evaluation [2/10]\n",
      "INFO:tensorflow:Evaluation [3/10]\n",
      "INFO:tensorflow:Evaluation [4/10]\n",
      "INFO:tensorflow:Evaluation [5/10]\n",
      "INFO:tensorflow:Evaluation [6/10]\n",
      "INFO:tensorflow:Evaluation [7/10]\n",
      "INFO:tensorflow:Evaluation [8/10]\n",
      "INFO:tensorflow:Evaluation [9/10]\n",
      "INFO:tensorflow:Evaluation [10/10]\n"
     ]
    },
    {
     "name": "stdout",
     "output_type": "stream",
     "text": [
      "INFO:tensorflow:Finished evaluation at 2017-06-15-15:59:58\n",
      "INFO:tensorflow:Saving dict for global step 500: global_step = 500, loss = 8.96396e-05, streaming_mean_absolute_error = 0.00771438, streaming_root_mean_squared_error = 0.00946782\n",
      "INFO:tensorflow:Training model for 100 steps\n",
      "WARNING:tensorflow:enqueue_data was called with shuffle=False and num_threads > 1. This will create multiple threads, all reading the array/dataframe in order. If you want examples read in order, use one thread; if you want multiple threads, enable shuffling.\n",
      "INFO:tensorflow:Create CheckpointSaverHook.\n",
      "INFO:tensorflow:Restoring parameters from /tmp/polyaxon_logs/sin/model.ckpt-500\n",
      "INFO:tensorflow:Saving checkpoints for 501 into /tmp/polyaxon_logs/sin/model.ckpt.\n",
      "INFO:tensorflow:loss = 1.15566e-05, step = 501\n",
      "INFO:tensorflow:Saving checkpoints for 600 into /tmp/polyaxon_logs/sin/model.ckpt.\n",
      "INFO:tensorflow:Loss for final step: 0.00338809.\n",
      "INFO:tensorflow:Evaluating model now.\n",
      "WARNING:tensorflow:enqueue_data was called with shuffle=False and num_threads > 1. This will create multiple threads, all reading the array/dataframe in order. If you want examples read in order, use one thread; if you want multiple threads, enable shuffling.\n",
      "INFO:tensorflow:Starting evaluation at 2017-06-15-16:00:08\n",
      "INFO:tensorflow:Restoring parameters from /tmp/polyaxon_logs/sin/model.ckpt-600\n",
      "INFO:tensorflow:Evaluation [1/10]\n",
      "INFO:tensorflow:Evaluation [2/10]\n",
      "INFO:tensorflow:Evaluation [3/10]\n",
      "INFO:tensorflow:Evaluation [4/10]\n",
      "INFO:tensorflow:Evaluation [5/10]\n",
      "INFO:tensorflow:Evaluation [6/10]\n",
      "INFO:tensorflow:Evaluation [7/10]\n",
      "INFO:tensorflow:Evaluation [8/10]\n",
      "INFO:tensorflow:Evaluation [9/10]\n",
      "INFO:tensorflow:Evaluation [10/10]\n",
      "INFO:tensorflow:Finished evaluation at 2017-06-15-16:00:08\n",
      "INFO:tensorflow:Saving dict for global step 600: global_step = 600, loss = 0.000660179, streaming_mean_absolute_error = 0.0215291, streaming_root_mean_squared_error = 0.0256939\n",
      "INFO:tensorflow:Training model for 100 steps\n",
      "WARNING:tensorflow:enqueue_data was called with shuffle=False and num_threads > 1. This will create multiple threads, all reading the array/dataframe in order. If you want examples read in order, use one thread; if you want multiple threads, enable shuffling.\n",
      "INFO:tensorflow:Create CheckpointSaverHook.\n",
      "INFO:tensorflow:Restoring parameters from /tmp/polyaxon_logs/sin/model.ckpt-600\n",
      "INFO:tensorflow:Saving checkpoints for 601 into /tmp/polyaxon_logs/sin/model.ckpt.\n",
      "INFO:tensorflow:loss = 4.22406e-05, step = 601\n",
      "INFO:tensorflow:Saving checkpoints for 700 into /tmp/polyaxon_logs/sin/model.ckpt.\n",
      "INFO:tensorflow:Loss for final step: 0.000397511.\n",
      "INFO:tensorflow:Evaluating model now.\n",
      "WARNING:tensorflow:enqueue_data was called with shuffle=False and num_threads > 1. This will create multiple threads, all reading the array/dataframe in order. If you want examples read in order, use one thread; if you want multiple threads, enable shuffling.\n",
      "INFO:tensorflow:Starting evaluation at 2017-06-15-16:00:18\n",
      "INFO:tensorflow:Restoring parameters from /tmp/polyaxon_logs/sin/model.ckpt-700\n",
      "INFO:tensorflow:Evaluation [1/10]\n",
      "INFO:tensorflow:Evaluation [2/10]\n",
      "INFO:tensorflow:Evaluation [3/10]\n",
      "INFO:tensorflow:Evaluation [4/10]\n",
      "INFO:tensorflow:Evaluation [5/10]\n",
      "INFO:tensorflow:Evaluation [6/10]\n",
      "INFO:tensorflow:Evaluation [7/10]\n",
      "INFO:tensorflow:Evaluation [8/10]\n",
      "INFO:tensorflow:Evaluation [9/10]\n",
      "INFO:tensorflow:Evaluation [10/10]\n",
      "INFO:tensorflow:Finished evaluation at 2017-06-15-16:00:18\n",
      "INFO:tensorflow:Saving dict for global step 700: global_step = 700, loss = 0.000111751, streaming_mean_absolute_error = 0.0100259, streaming_root_mean_squared_error = 0.0105712\n",
      "INFO:tensorflow:Training model for 100 steps\n",
      "WARNING:tensorflow:enqueue_data was called with shuffle=False and num_threads > 1. This will create multiple threads, all reading the array/dataframe in order. If you want examples read in order, use one thread; if you want multiple threads, enable shuffling.\n",
      "INFO:tensorflow:Create CheckpointSaverHook.\n",
      "INFO:tensorflow:Restoring parameters from /tmp/polyaxon_logs/sin/model.ckpt-700\n",
      "INFO:tensorflow:Saving checkpoints for 701 into /tmp/polyaxon_logs/sin/model.ckpt.\n",
      "INFO:tensorflow:loss = 3.31209e-05, step = 701\n",
      "INFO:tensorflow:Saving checkpoints for 800 into /tmp/polyaxon_logs/sin/model.ckpt.\n",
      "INFO:tensorflow:Loss for final step: 0.000232355.\n",
      "INFO:tensorflow:Evaluating model now.\n",
      "WARNING:tensorflow:enqueue_data was called with shuffle=False and num_threads > 1. This will create multiple threads, all reading the array/dataframe in order. If you want examples read in order, use one thread; if you want multiple threads, enable shuffling.\n",
      "INFO:tensorflow:Starting evaluation at 2017-06-15-16:00:28\n",
      "INFO:tensorflow:Restoring parameters from /tmp/polyaxon_logs/sin/model.ckpt-800\n",
      "INFO:tensorflow:Evaluation [1/10]\n",
      "INFO:tensorflow:Evaluation [2/10]\n",
      "INFO:tensorflow:Evaluation [3/10]\n",
      "INFO:tensorflow:Evaluation [4/10]\n",
      "INFO:tensorflow:Evaluation [5/10]\n",
      "INFO:tensorflow:Evaluation [6/10]\n",
      "INFO:tensorflow:Evaluation [7/10]\n",
      "INFO:tensorflow:Evaluation [8/10]\n",
      "INFO:tensorflow:Evaluation [9/10]\n",
      "INFO:tensorflow:Evaluation [10/10]\n",
      "INFO:tensorflow:Finished evaluation at 2017-06-15-16:00:28\n",
      "INFO:tensorflow:Saving dict for global step 800: global_step = 800, loss = 0.000126429, streaming_mean_absolute_error = 0.0109421, streaming_root_mean_squared_error = 0.011244\n",
      "INFO:tensorflow:Training model for 100 steps\n",
      "WARNING:tensorflow:enqueue_data was called with shuffle=False and num_threads > 1. This will create multiple threads, all reading the array/dataframe in order. If you want examples read in order, use one thread; if you want multiple threads, enable shuffling.\n",
      "INFO:tensorflow:Create CheckpointSaverHook.\n",
      "INFO:tensorflow:Restoring parameters from /tmp/polyaxon_logs/sin/model.ckpt-800\n",
      "INFO:tensorflow:Saving checkpoints for 801 into /tmp/polyaxon_logs/sin/model.ckpt.\n",
      "INFO:tensorflow:loss = 6.64472e-05, step = 801\n",
      "INFO:tensorflow:Saving checkpoints for 900 into /tmp/polyaxon_logs/sin/model.ckpt.\n",
      "INFO:tensorflow:Loss for final step: 0.00168738.\n",
      "INFO:tensorflow:Evaluating model now.\n",
      "WARNING:tensorflow:enqueue_data was called with shuffle=False and num_threads > 1. This will create multiple threads, all reading the array/dataframe in order. If you want examples read in order, use one thread; if you want multiple threads, enable shuffling.\n",
      "INFO:tensorflow:Starting evaluation at 2017-06-15-16:00:38\n",
      "INFO:tensorflow:Restoring parameters from /tmp/polyaxon_logs/sin/model.ckpt-900\n",
      "INFO:tensorflow:Evaluation [1/10]\n",
      "INFO:tensorflow:Evaluation [2/10]\n",
      "INFO:tensorflow:Evaluation [3/10]\n",
      "INFO:tensorflow:Evaluation [4/10]\n",
      "INFO:tensorflow:Evaluation [5/10]\n",
      "INFO:tensorflow:Evaluation [6/10]\n",
      "INFO:tensorflow:Evaluation [7/10]\n",
      "INFO:tensorflow:Evaluation [8/10]\n",
      "INFO:tensorflow:Evaluation [9/10]\n",
      "INFO:tensorflow:Evaluation [10/10]\n",
      "INFO:tensorflow:Finished evaluation at 2017-06-15-16:00:38\n",
      "INFO:tensorflow:Saving dict for global step 900: global_step = 900, loss = 0.000607481, streaming_mean_absolute_error = 0.0241623, streaming_root_mean_squared_error = 0.0246471\n",
      "INFO:tensorflow:Training model for 100 steps\n",
      "WARNING:tensorflow:enqueue_data was called with shuffle=False and num_threads > 1. This will create multiple threads, all reading the array/dataframe in order. If you want examples read in order, use one thread; if you want multiple threads, enable shuffling.\n",
      "INFO:tensorflow:Create CheckpointSaverHook.\n",
      "INFO:tensorflow:Restoring parameters from /tmp/polyaxon_logs/sin/model.ckpt-900\n",
      "INFO:tensorflow:Saving checkpoints for 901 into /tmp/polyaxon_logs/sin/model.ckpt.\n",
      "INFO:tensorflow:loss = 0.000355484, step = 901\n",
      "INFO:tensorflow:Saving checkpoints for 1000 into /tmp/polyaxon_logs/sin/model.ckpt.\n",
      "INFO:tensorflow:Loss for final step: 0.000158104.\n",
      "INFO:tensorflow:Evaluating model now.\n",
      "WARNING:tensorflow:enqueue_data was called with shuffle=False and num_threads > 1. This will create multiple threads, all reading the array/dataframe in order. If you want examples read in order, use one thread; if you want multiple threads, enable shuffling.\n",
      "INFO:tensorflow:Starting evaluation at 2017-06-15-16:00:48\n",
      "INFO:tensorflow:Restoring parameters from /tmp/polyaxon_logs/sin/model.ckpt-1000\n",
      "INFO:tensorflow:Evaluation [1/10]\n"
     ]
    },
    {
     "name": "stdout",
     "output_type": "stream",
     "text": [
      "INFO:tensorflow:Evaluation [2/10]\n",
      "INFO:tensorflow:Evaluation [3/10]\n",
      "INFO:tensorflow:Evaluation [4/10]\n",
      "INFO:tensorflow:Evaluation [5/10]\n",
      "INFO:tensorflow:Evaluation [6/10]\n",
      "INFO:tensorflow:Evaluation [7/10]\n",
      "INFO:tensorflow:Evaluation [8/10]\n",
      "INFO:tensorflow:Evaluation [9/10]\n",
      "INFO:tensorflow:Evaluation [10/10]\n",
      "INFO:tensorflow:Finished evaluation at 2017-06-15-16:00:48\n",
      "INFO:tensorflow:Saving dict for global step 1000: global_step = 1000, loss = 0.000126559, streaming_mean_absolute_error = 0.0104135, streaming_root_mean_squared_error = 0.0112498\n",
      "INFO:tensorflow:Stop training model as max steps reached\n"
     ]
    },
    {
     "data": {
      "text/plain": [
       "({'global_step': 1000,\n",
       "  'loss': 0.00012655852,\n",
       "  'streaming_mean_absolute_error': 0.010413513,\n",
       "  'streaming_root_mean_squared_error': 0.011249823},\n",
       " [])"
      ]
     },
     "execution_count": 3,
     "metadata": {},
     "output_type": "execute_result"
    }
   ],
   "source": [
    "xp.continuous_train_and_evaluate()"
   ]
  },
  {
   "cell_type": "code",
   "execution_count": 12,
   "metadata": {},
   "outputs": [
    {
     "name": "stdout",
     "output_type": "stream",
     "text": [
      "INFO:tensorflow:Restoring parameters from /tmp/polyaxon_logs/sin/model.ckpt-1000\n",
      "MSE: 0.001129\n"
     ]
    }
   ],
   "source": [
    "predicted = [i['results'] for i in xp.estimator.predict(numpy_input_fn({'x': X['test']}, shuffle=False))]\n",
    "rmse = np.sqrt(((predicted - y['test']) ** 2).mean(axis=0))\n",
    "score = mean_squared_error(predicted, y['test'])\n",
    "print (\"MSE: %f\" % score)"
   ]
  },
  {
   "cell_type": "code",
   "execution_count": 13,
   "metadata": {},
   "outputs": [
    {
     "data": {
      "text/plain": [
       "<matplotlib.legend.Legend at 0x116757d30>"
      ]
     },
     "execution_count": 13,
     "metadata": {},
     "output_type": "execute_result"
    },
    {
     "data": {
      "image/png": "[encoded data removed]",
      "text/plain": [
       "<matplotlib.figure.Figure at 0x116773a90>"
      ]
     },
     "metadata": {},
     "output_type": "display_data"
    }
   ],
   "source": [
    "plot_predicted, = plt.plot(predicted, label='predicted')\n",
    "plot_test, = plt.plot(y['test'], label='test')\n",
    "plt.legend(handles=[plot_predicted, plot_test])"
   ]
  },
  {
   "cell_type": "code",
   "execution_count": null,
   "metadata": {
    "collapsed": true
   },
   "outputs": [],
   "source": [
    ""
   ]
  },
  {
   "cell_type": "code",
   "execution_count": null,
   "metadata": {
    "collapsed": true
   },
   "outputs": [],
   "source": [
    ""
   ]
  }
 ],
 "metadata": {
  "kernelspec": {
   "display_name": "Python 3",
   "language": "python",
   "name": "python3"
  },
  "language_info": {
   "codemirror_mode": {
    "name": "ipython",
    "version": 3.0
   },
   "file_extension": ".py",
   "mimetype": "text/x-python",
   "name": "python",
   "nbconvert_exporter": "python",
   "pygments_lexer": "ipython3",
   "version": "3.5.1"
  }
 },
 "nbformat": 4,
 "nbformat_minor": 0
}